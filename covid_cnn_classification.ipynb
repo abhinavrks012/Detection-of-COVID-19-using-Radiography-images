{
  "nbformat": 4,
  "nbformat_minor": 0,
  "metadata": {
    "kernelspec": {
      "language": "python",
      "display_name": "Python 3",
      "name": "python3"
    },
    "language_info": {
      "name": "python",
      "version": "3.7.9",
      "mimetype": "text/x-python",
      "codemirror_mode": {
        "name": "ipython",
        "version": 3
      },
      "pygments_lexer": "ipython3",
      "nbconvert_exporter": "python",
      "file_extension": ".py"
    },
    "colab": {
      "name": "covid-cnn-classification-rashmika.ipynb",
      "provenance": [],
      "collapsed_sections": []
    }
  },
  "cells": [
    {
      "cell_type": "markdown",
      "metadata": {
        "id": "L5hXWaxrLAcL"
      },
      "source": [
        "# **Detection of Covid-19 using Deep Learning**"
      ]
    },
    {
      "cell_type": "markdown",
      "metadata": {
        "id": "V6tZnOjILMnJ"
      },
      "source": [
        "## Importing all the necessary libraries\n",
        "\n",
        "Python uses various libraries in Keras for performing deep learning related computations. Here are few libraries that we will be using for the given task."
      ]
    },
    {
      "cell_type": "code",
      "metadata": {
        "_uuid": "8f2839f25d086af736a60e9eeb907d3b93b6e0e5",
        "_cell_guid": "b1076dfc-b9ad-4769-8c92-a6c4dae69d19",
        "execution": {
          "iopub.status.busy": "2021-07-04T14:10:55.529878Z",
          "iopub.execute_input": "2021-07-04T14:10:55.530220Z",
          "iopub.status.idle": "2021-07-04T14:10:55.536411Z",
          "shell.execute_reply.started": "2021-07-04T14:10:55.530190Z",
          "shell.execute_reply": "2021-07-04T14:10:55.535581Z"
        },
        "trusted": true,
        "id": "G6aN7o_BGkCj"
      },
      "source": [
        "#### This Python 3 environment comes with many helpful analytics libraries installed\n",
        "# It is defined by the kaggle/python Docker image: https://github.com/kaggle/docker-python\n",
        "# For example, here's several helpful packages to load\n",
        "\n",
        "import numpy as np # linear algebra\n",
        "import pandas as pd # data processing, CSV file I/O (e.g. pd.read_csv)\n",
        "# Data preprocessing\n",
        "import numpy as np\n",
        "import pandas as pd \n",
        "import matplotlib.pyplot as plt\n",
        "import matplotlib.image as mpimg\n",
        "import glob\n",
        "\n",
        "# Deep learning\n",
        "from keras import backend as K\n",
        "from keras.preprocessing.image import ImageDataGenerator,load_img, img_to_array\n",
        "from keras.models import Sequential, Model\n",
        "from keras.layers import Conv2D, MaxPooling2D,GlobalAveragePooling2D, Conv3D, MaxPooling3D,GlobalAveragePooling3D\n",
        "from keras.layers import Activation, Dropout, BatchNormalization, Flatten, Dense, AvgPool2D,MaxPool2D\n",
        "from keras.applications.vgg16 import VGG16, preprocess_input\n",
        "from keras.optimizers import Adam, SGD, RMSprop\n",
        "import tensorflow as tf \n",
        "from tensorflow.keras.applications import EfficientNetB0\n",
        "from tensorflow.keras.preprocessing import image\n",
        "\n",
        "# Input data files are available in the read-only \"../input/\" directory\n",
        "# For example, running this (by clicking run or pressing Shift+Enter) will list all files under the input directory"
      ],
      "execution_count": null,
      "outputs": []
    },
    {
      "cell_type": "markdown",
      "metadata": {
        "id": "LXLrg7eKLteW"
      },
      "source": [
        "## Adding the path of the dataset and dividing the dataset into two classes - Covid and Normal\n",
        "\n",
        "The dataset contains lot of images as follows: \n",
        "\n",
        "In the 2nd update, they have increased the database to \n",
        "#####**3616 COVID-19 positive cases** along with \n",
        "#####**10,192 Normal**, \n",
        "#####**6012 Lung Opacity (Non-COVID lung infection)**, and \n",
        "#####**1345 Viral Pneumonia** images. \n",
        "\n",
        "\n",
        "\n",
        "For our use case, we have used only TWO classes of images - **Covid** and **Normal**\n",
        "\n",
        "The dataset has been split into two - 70% for Training and 30% for Testing"
      ]
    },
    {
      "cell_type": "code",
      "metadata": {
        "execution": {
          "iopub.status.busy": "2021-07-04T14:10:57.682413Z",
          "iopub.execute_input": "2021-07-04T14:10:57.682947Z",
          "iopub.status.idle": "2021-07-04T14:11:06.040471Z",
          "shell.execute_reply.started": "2021-07-04T14:10:57.682903Z",
          "shell.execute_reply": "2021-07-04T14:11:06.039143Z"
        },
        "trusted": true,
        "id": "IyAgSQ86GkCp",
        "outputId": "47f1691e-e8de-4a3c-9b7c-6779cf8d58ec"
      },
      "source": [
        "#All the images are in Portable Network Graphics (PNG) file format and the resolution are 299*299 pixels.\n",
        "#\n",
        "#add the path general where the classes subpath are allocated\n",
        "path = '/kaggle/input/covid19-radiography-database/COVID-19_Radiography_Dataset'\n",
        "\n",
        "\n",
        "#classes=[\"COVID\", \"Lung_Opacity\", \"Normal\", \"Viral Pneumonia\"]\n",
        "classes=[\"COVID\",  \"Normal\"]\n",
        "num_classes = len(classes)\n",
        "print(num_classes)\n",
        "batch_size=32\n",
        "\n",
        "#split the datagen into 70% and 30%, train and test\n",
        "datagen = ImageDataGenerator(rotation_range=20, zoom_range=0.15, width_shift_range=0.2, height_shift_range=0.2, shear_range=0.15, horizontal_flip=True, fill_mode=\"nearest\", rescale=1./255, validation_split=0.3)\n",
        "\n",
        "#load the images to training\n",
        "train_gen = datagen.flow_from_directory(directory=path, \n",
        "                                              target_size=(299, 299),\n",
        "                                              class_mode='categorical',\n",
        "                                              subset='training',\n",
        "                                              shuffle=True, classes=classes,\n",
        "                                              batch_size=batch_size, \n",
        "                                              color_mode=\"grayscale\")\n",
        "#load the images to test\n",
        "test_gen = datagen.flow_from_directory(directory=path, \n",
        "                                              target_size=(299, 299),\n",
        "                                              class_mode='categorical',\n",
        "                                              subset='validation',\n",
        "                                              shuffle=True, classes=classes,\n",
        "                                              batch_size=batch_size, \n",
        "                                              color_mode=\"grayscale\")\n",
        "\n"
      ],
      "execution_count": null,
      "outputs": [
        {
          "output_type": "stream",
          "text": [
            "2\n",
            "Found 9667 images belonging to 2 classes.\n",
            "Found 4141 images belonging to 2 classes.\n"
          ],
          "name": "stdout"
        }
      ]
    },
    {
      "cell_type": "markdown",
      "metadata": {
        "id": "8Z8iQkQwM2QQ"
      },
      "source": [
        "## Building the CNN Architecture from scratch\n",
        "\n",
        "We have built a basic CNN model in the following way:\n",
        "\n",
        "**Conv2D -> Conv2D -> MaxPool -> Conv2D -> Conv2D -> MaxPool -> Conv2D -> Conv2D -> Flatten -> Dense -> Dense**"
      ]
    },
    {
      "cell_type": "code",
      "metadata": {
        "execution": {
          "iopub.status.busy": "2021-07-04T14:12:44.703094Z",
          "iopub.execute_input": "2021-07-04T14:12:44.703470Z",
          "iopub.status.idle": "2021-07-04T14:12:44.711396Z",
          "shell.execute_reply.started": "2021-07-04T14:12:44.703436Z",
          "shell.execute_reply": "2021-07-04T14:12:44.710570Z"
        },
        "trusted": true,
        "id": "3CziBz-0GkCs"
      },
      "source": [
        "\n",
        "def model1():\n",
        "    \n",
        "    model = Sequential()\n",
        "    model.add(Conv2D(32, (3, 3), activation='relu', input_shape=(299, 299, 1)))\n",
        "    model.add(Conv2D(32, (3, 3), activation='relu'))\n",
        "    model.add(MaxPooling2D((2, 2)))\n",
        "    model.add(Conv2D(64, (3, 3), activation='relu'))\n",
        "    model.add(Conv2D(64, (3, 3), activation='relu'))\n",
        "    model.add(MaxPooling2D((2, 2)))\n",
        "    model.add(Conv2D(128, (3, 3), activation='relu'))\n",
        "    model.add(Conv2D(128, (3, 3), activation='relu'))\n",
        "    model.add(MaxPooling2D((2, 2)))\n",
        "    model.add(Flatten())\n",
        "    model.add(Dense(128, activation='relu', kernel_initializer='he_uniform'))\n",
        "    model.add(Dense(num_classes, activation='sigmoid'))\n",
        "    # compile model\n",
        "    opt = SGD(lr=0.01, momentum=0.9)\n",
        "    model.compile(optimizer=opt, loss='categorical_crossentropy', metrics=[\"accuracy\"])\n",
        "    model.summary()\n",
        "    return model\n"
      ],
      "execution_count": null,
      "outputs": []
    },
    {
      "cell_type": "markdown",
      "metadata": {
        "id": "nWuO-7-dOA9o"
      },
      "source": [
        "We are fitting the model with **BATCH SIZE = 32** and **Number of Epochs = 10**.\n",
        "After which on running(for a while), will give the loss and accuracy for each epoch as given"
      ]
    },
    {
      "cell_type": "code",
      "metadata": {
        "execution": {
          "iopub.status.busy": "2021-07-04T14:13:18.470940Z",
          "iopub.execute_input": "2021-07-04T14:13:18.471296Z",
          "iopub.status.idle": "2021-07-04T14:27:28.711195Z",
          "shell.execute_reply.started": "2021-07-04T14:13:18.471268Z",
          "shell.execute_reply": "2021-07-04T14:27:28.710144Z"
        },
        "trusted": true,
        "id": "zFI7KrwEGkCw",
        "outputId": "9a2a6c75-4061-4abe-813e-14c10d481b95"
      },
      "source": [
        "epoch=10\n",
        "\n",
        "modelo1 = model1() \n",
        "\n",
        "\n",
        "# fit model one\n",
        "history1 = modelo1.fit_generator(train_gen, steps_per_epoch=len(train_gen) // batch_size, validation_steps=len(test_gen) // batch_size, validation_data=test_gen, epochs=epoch, verbose=2)\n",
        "\n",
        "# fit model two\n"
      ],
      "execution_count": null,
      "outputs": [
        {
          "output_type": "stream",
          "text": [
            "Model: \"sequential_4\"\n",
            "_________________________________________________________________\n",
            "Layer (type)                 Output Shape              Param #   \n",
            "=================================================================\n",
            "conv2d_31 (Conv2D)           (None, 297, 297, 32)      320       \n",
            "_________________________________________________________________\n",
            "conv2d_32 (Conv2D)           (None, 295, 295, 32)      9248      \n",
            "_________________________________________________________________\n",
            "max_pooling2d_14 (MaxPooling (None, 147, 147, 32)      0         \n",
            "_________________________________________________________________\n",
            "conv2d_33 (Conv2D)           (None, 145, 145, 64)      18496     \n",
            "_________________________________________________________________\n",
            "conv2d_34 (Conv2D)           (None, 143, 143, 64)      36928     \n",
            "_________________________________________________________________\n",
            "max_pooling2d_15 (MaxPooling (None, 71, 71, 64)        0         \n",
            "_________________________________________________________________\n",
            "conv2d_35 (Conv2D)           (None, 69, 69, 128)       73856     \n",
            "_________________________________________________________________\n",
            "conv2d_36 (Conv2D)           (None, 67, 67, 128)       147584    \n",
            "_________________________________________________________________\n",
            "max_pooling2d_16 (MaxPooling (None, 33, 33, 128)       0         \n",
            "_________________________________________________________________\n",
            "flatten_4 (Flatten)          (None, 139392)            0         \n",
            "_________________________________________________________________\n",
            "dense_9 (Dense)              (None, 128)               17842304  \n",
            "_________________________________________________________________\n",
            "dense_10 (Dense)             (None, 2)                 258       \n",
            "=================================================================\n",
            "Total params: 18,128,994\n",
            "Trainable params: 18,128,994\n",
            "Non-trainable params: 0\n",
            "_________________________________________________________________\n",
            "Epoch 1/10\n",
            "9/9 - 86s - loss: 0.6170 - accuracy: 0.7500 - val_loss: 0.5551 - val_accuracy: 0.7656\n",
            "Epoch 2/10\n",
            "9/9 - 85s - loss: 0.5289 - accuracy: 0.7917 - val_loss: 0.5896 - val_accuracy: 0.7266\n",
            "Epoch 3/10\n",
            "9/9 - 85s - loss: 0.5949 - accuracy: 0.7569 - val_loss: 0.5640 - val_accuracy: 0.7578\n",
            "Epoch 4/10\n",
            "9/9 - 85s - loss: 0.6002 - accuracy: 0.7222 - val_loss: 0.6159 - val_accuracy: 0.6953\n",
            "Epoch 5/10\n",
            "9/9 - 85s - loss: 0.5993 - accuracy: 0.7153 - val_loss: 0.6463 - val_accuracy: 0.6641\n",
            "Epoch 6/10\n",
            "9/9 - 85s - loss: 0.6144 - accuracy: 0.7014 - val_loss: 0.5709 - val_accuracy: 0.7578\n",
            "Epoch 7/10\n",
            "9/9 - 84s - loss: 0.6018 - accuracy: 0.7153 - val_loss: 0.5738 - val_accuracy: 0.7422\n",
            "Epoch 8/10\n",
            "9/9 - 85s - loss: 0.5599 - accuracy: 0.7569 - val_loss: 0.5149 - val_accuracy: 0.7891\n",
            "Epoch 9/10\n",
            "9/9 - 85s - loss: 0.6166 - accuracy: 0.7049 - val_loss: 0.5944 - val_accuracy: 0.7578\n",
            "Epoch 10/10\n",
            "9/9 - 84s - loss: 0.6083 - accuracy: 0.7222 - val_loss: 0.6213 - val_accuracy: 0.6875\n"
          ],
          "name": "stdout"
        }
      ]
    },
    {
      "cell_type": "markdown",
      "metadata": {
        "id": "LQ8-hBCAOfkI"
      },
      "source": [
        "##Evaluation of our Model\n",
        "\n",
        "The graph shown below is the plot between Loss(for both training and testing) and epochs"
      ]
    },
    {
      "cell_type": "code",
      "metadata": {
        "execution": {
          "iopub.status.busy": "2021-07-04T14:29:32.806035Z",
          "iopub.execute_input": "2021-07-04T14:29:32.806524Z",
          "iopub.status.idle": "2021-07-04T14:29:32.954320Z",
          "shell.execute_reply.started": "2021-07-04T14:29:32.806493Z",
          "shell.execute_reply": "2021-07-04T14:29:32.953522Z"
        },
        "trusted": true,
        "id": "GcM64Z8vGkCx",
        "outputId": "9e0e2985-142f-4e17-ccbc-a634672dd9a5"
      },
      "source": [
        "plt.plot(history1.history['loss'])\n",
        "plt.plot(history1.history['val_loss'])\n",
        "plt.title('Model 1 loss')\n",
        "plt.ylabel('Loss')\n",
        "plt.xlabel('Epoch')\n",
        "plt.legend(['Train', 'Val'], loc='upper left')\n",
        "plt.show()"
      ],
      "execution_count": null,
      "outputs": [
        {
          "output_type": "display_data",
          "data": {
            "text/plain": [
              "<Figure size 432x288 with 1 Axes>"
            ],
            "image/png": "[encoded data removed]"
          },
          "metadata": {
            "tags": [],
            "needs_background": "light"
          }
        }
      ]
    },
    {
      "cell_type": "markdown",
      "metadata": {
        "id": "Mo0yxAg-QfJC"
      },
      "source": [
        "##Evaluation of our Model\n",
        "\n",
        "The graph shown below is the plot between Accuracy(for both training and testing) and epochs"
      ]
    },
    {
      "cell_type": "code",
      "metadata": {
        "execution": {
          "iopub.status.busy": "2021-07-04T14:28:02.628902Z",
          "iopub.execute_input": "2021-07-04T14:28:02.629265Z",
          "iopub.status.idle": "2021-07-04T14:28:02.798272Z",
          "shell.execute_reply.started": "2021-07-04T14:28:02.629236Z",
          "shell.execute_reply": "2021-07-04T14:28:02.797074Z"
        },
        "trusted": true,
        "id": "cPdU8RFsGkCy",
        "outputId": "67adc6ef-5c80-415a-bdb3-3a917cd85114"
      },
      "source": [
        "plt.plot(history1.history['accuracy'])\n",
        "plt.plot(history1.history['val_accuracy'])\n",
        "plt.title('Model 1 accuracy')\n",
        "plt.ylabel('Accuracy')\n",
        "plt.xlabel('Epoch')\n",
        "plt.legend(['Train', 'Val'], loc='upper left')\n",
        "plt.show()"
      ],
      "execution_count": null,
      "outputs": [
        {
          "output_type": "display_data",
          "data": {
            "text/plain": [
              "<Figure size 432x288 with 1 Axes>"
            ],
            "image/png": "[encoded data removed]"
          },
          "metadata": {
            "tags": [],
            "needs_background": "light"
          }
        }
      ]
    },
    {
      "cell_type": "markdown",
      "metadata": {
        "id": "6xAE_9ZwQi2o"
      },
      "source": [
        "##Final Model Accuracy"
      ]
    },
    {
      "cell_type": "code",
      "metadata": {
        "execution": {
          "iopub.status.busy": "2021-07-04T14:35:18.826291Z",
          "iopub.execute_input": "2021-07-04T14:35:18.826615Z",
          "iopub.status.idle": "2021-07-04T14:39:57.610498Z",
          "shell.execute_reply.started": "2021-07-04T14:35:18.826590Z",
          "shell.execute_reply": "2021-07-04T14:39:57.609346Z"
        },
        "trusted": true,
        "id": "kL886CoqGkCy",
        "outputId": "7462da69-f2a8-4613-82ae-a3a568e45247"
      },
      "source": [
        "scores = modelo1.evaluate_generator(test_gen, steps=len(test_gen))\n",
        "print(scores)\n",
        "print('Model accuracy: {}'.format(scores[1]))"
      ],
      "execution_count": null,
      "outputs": [
        {
          "output_type": "stream",
          "text": [
            "/opt/conda/lib/python3.7/site-packages/tensorflow/python/keras/engine/training.py:1877: UserWarning: `Model.evaluate_generator` is deprecated and will be removed in a future version. Please use `Model.evaluate`, which supports generators.\n",
            "  warnings.warn('`Model.evaluate_generator` is deprecated and '\n"
          ],
          "name": "stderr"
        },
        {
          "output_type": "stream",
          "text": [
            "[0.5773879885673523, 0.7382274866104126]\n",
            "Model accuracy: 0.7382274866104126\n"
          ],
          "name": "stdout"
        }
      ]
    },
    {
      "cell_type": "code",
      "metadata": {
        "id": "bODEPW3NGkC0"
      },
      "source": [
        ""
      ],
      "execution_count": null,
      "outputs": []
    }
  ]
}